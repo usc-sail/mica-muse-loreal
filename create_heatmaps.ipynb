{
 "cells": [
  {
   "cell_type": "code",
   "execution_count": 209,
   "id": "d46b1638",
   "metadata": {},
   "outputs": [
    {
     "name": "stdout",
     "output_type": "stream",
     "text": [
      "(11577, 148)\n",
      "Index(['Filename', 'Advertiser', 'Date', 'Version', 'Country', 'Duration',\n",
      "       'Description', 'Brand/Product', 'ProductAdvertiser', 'Title',\n",
      "       ...\n",
      "       'age_2', 'age_3', 'age_4', 'age_5', 'age_6', 'age_7', 'masculine_faces',\n",
      "       'feminine_faces', 'video_key_to_match', 'brand_category'],\n",
      "      dtype='object', length=148)\n"
     ]
    }
   ],
   "source": [
    "import os \n",
    "import pandas as pd \n",
    "import numpy as np \n",
    "#reading and filtering out the data\n",
    "csv_file=\"raw_Mar31.csv\"\n",
    "raw_rp_data=pd.read_csv(csv_file,index_col=None)\n",
    "\n",
    "print(raw_rp_data.shape)\n",
    "print(raw_rp_data.columns)\n",
    "\n",
    "#filter only videos and valid RP values\n",
    "rp_data=raw_rp_data.loc[(raw_rp_data != -1).all(axis=1) & raw_rp_data[\"Filename\"].str.endswith(\".mp4\")].copy()\n",
    "rp_data.index = pd.RangeIndex(0, len(rp_data))"
   ]
  },
  {
   "cell_type": "code",
   "execution_count": 210,
   "id": "10dc9bce",
   "metadata": {},
   "outputs": [],
   "source": [
    "#extract only the male data \n",
    "import ast \n",
    "male_cols=[col for col in rp_data.columns if 'male' in col and 'female' not in col]\n",
    "male_data=rp_data[male_cols]\n",
    "\n",
    "#create a dataframe with age bins as columns and index as skintone values \n",
    "\n",
    "age_bins=['[0, 15)','[15, 25)','[25, 35)','[35, 45)', '[45, 55)','[55, 65)', '[65, 75)']\n",
    "condensed_age_bins=['[0, 15)','[15, 25)','[25, 35)','[35, 45)','[45, 75)']\n",
    "skintone_strings=[\"[-inf, 1.1)\",\"[1.1, 2.1)\",\"[2.1, 3.1)\",\"[3.1, 4.1)\",\"[4.1, 5.1)\",\"[5.1, 6.1)\",\"[6.1, 7.1)\",\"[7.1, 8.1)\",\"[8.1, 9.1)\",\"[9.1, 10.1)\"]\n",
    "\n",
    "male_df=df = pd.DataFrame(0, index=skintone_strings, columns=age_bins)\n",
    "\n",
    "\n",
    "for age_bin in age_bins:\n",
    "    \n",
    "    col_sample=[col for col in male_data.columns if age_bin in col]\n",
    "    age_subsample_data=male_data[col_sample]\n",
    "    \n",
    "    for col_select in col_sample:\n",
    "        \n",
    "        tuple_ = tuple(x.strip() for x in col_select.strip('()').split(','))\n",
    "        skintone_bin=tuple_[3]+\", \"+tuple_[4]+\")\"\n",
    "        sum_faces=male_data[col_select].sum()\n",
    "        \n",
    "        male_df.loc[skintone_bin,age_bin]=sum_faces\n",
    "        #print(male_data[col_select])\n",
    "        "
   ]
  },
  {
   "cell_type": "code",
   "execution_count": 211,
   "id": "29fe7e6d",
   "metadata": {},
   "outputs": [
    {
     "data": {
      "text/plain": [
       "364390"
      ]
     },
     "execution_count": 211,
     "metadata": {},
     "output_type": "execute_result"
    }
   ],
   "source": [
    "male_df.sum().sum()"
   ]
  },
  {
   "cell_type": "code",
   "execution_count": 212,
   "id": "9bd80b47",
   "metadata": {},
   "outputs": [],
   "source": [
    "male_df['[45, 75)']=male_df['[45, 55)']+male_df['[55, 65)']+male_df['[65, 75)']\n",
    "\n",
    "#drop columns from male_df \n",
    "male_df=male_df.drop(['[45, 55)', '[55, 65)', '[65, 75)'], axis=1)"
   ]
  },
  {
   "cell_type": "code",
   "execution_count": 213,
   "id": "7c2165e5",
   "metadata": {},
   "outputs": [
    {
     "data": {
      "text/html": [
       "<div>\n",
       "<style scoped>\n",
       "    .dataframe tbody tr th:only-of-type {\n",
       "        vertical-align: middle;\n",
       "    }\n",
       "\n",
       "    .dataframe tbody tr th {\n",
       "        vertical-align: top;\n",
       "    }\n",
       "\n",
       "    .dataframe thead th {\n",
       "        text-align: right;\n",
       "    }\n",
       "</style>\n",
       "<table border=\"1\" class=\"dataframe\">\n",
       "  <thead>\n",
       "    <tr style=\"text-align: right;\">\n",
       "      <th></th>\n",
       "      <th>[0, 15)</th>\n",
       "      <th>[15, 25)</th>\n",
       "      <th>[25, 35)</th>\n",
       "      <th>[35, 45)</th>\n",
       "      <th>[45, 75)</th>\n",
       "    </tr>\n",
       "  </thead>\n",
       "  <tbody>\n",
       "    <tr>\n",
       "      <th>[-inf, 1.1)</th>\n",
       "      <td>1113</td>\n",
       "      <td>5123</td>\n",
       "      <td>12846</td>\n",
       "      <td>2165</td>\n",
       "      <td>593</td>\n",
       "    </tr>\n",
       "    <tr>\n",
       "      <th>[1.1, 2.1)</th>\n",
       "      <td>7307</td>\n",
       "      <td>57257</td>\n",
       "      <td>144218</td>\n",
       "      <td>30820</td>\n",
       "      <td>17326</td>\n",
       "    </tr>\n",
       "    <tr>\n",
       "      <th>[2.1, 3.1)</th>\n",
       "      <td>279</td>\n",
       "      <td>4012</td>\n",
       "      <td>6523</td>\n",
       "      <td>643</td>\n",
       "      <td>256</td>\n",
       "    </tr>\n",
       "    <tr>\n",
       "      <th>[3.1, 4.1)</th>\n",
       "      <td>257</td>\n",
       "      <td>4201</td>\n",
       "      <td>23682</td>\n",
       "      <td>1125</td>\n",
       "      <td>235</td>\n",
       "    </tr>\n",
       "    <tr>\n",
       "      <th>[4.1, 5.1)</th>\n",
       "      <td>845</td>\n",
       "      <td>2041</td>\n",
       "      <td>4663</td>\n",
       "      <td>77</td>\n",
       "      <td>21</td>\n",
       "    </tr>\n",
       "    <tr>\n",
       "      <th>[5.1, 6.1)</th>\n",
       "      <td>76</td>\n",
       "      <td>141</td>\n",
       "      <td>385</td>\n",
       "      <td>0</td>\n",
       "      <td>0</td>\n",
       "    </tr>\n",
       "    <tr>\n",
       "      <th>[6.1, 7.1)</th>\n",
       "      <td>195</td>\n",
       "      <td>646</td>\n",
       "      <td>1771</td>\n",
       "      <td>5</td>\n",
       "      <td>1</td>\n",
       "    </tr>\n",
       "    <tr>\n",
       "      <th>[7.1, 8.1)</th>\n",
       "      <td>673</td>\n",
       "      <td>12991</td>\n",
       "      <td>15782</td>\n",
       "      <td>538</td>\n",
       "      <td>348</td>\n",
       "    </tr>\n",
       "    <tr>\n",
       "      <th>[8.1, 9.1)</th>\n",
       "      <td>4</td>\n",
       "      <td>1233</td>\n",
       "      <td>1908</td>\n",
       "      <td>5</td>\n",
       "      <td>35</td>\n",
       "    </tr>\n",
       "    <tr>\n",
       "      <th>[9.1, 10.1)</th>\n",
       "      <td>0</td>\n",
       "      <td>9</td>\n",
       "      <td>16</td>\n",
       "      <td>0</td>\n",
       "      <td>0</td>\n",
       "    </tr>\n",
       "  </tbody>\n",
       "</table>\n",
       "</div>"
      ],
      "text/plain": [
       "             [0, 15)  [15, 25)  [25, 35)  [35, 45)  [45, 75)\n",
       "[-inf, 1.1)     1113      5123     12846      2165       593\n",
       "[1.1, 2.1)      7307     57257    144218     30820     17326\n",
       "[2.1, 3.1)       279      4012      6523       643       256\n",
       "[3.1, 4.1)       257      4201     23682      1125       235\n",
       "[4.1, 5.1)       845      2041      4663        77        21\n",
       "[5.1, 6.1)        76       141       385         0         0\n",
       "[6.1, 7.1)       195       646      1771         5         1\n",
       "[7.1, 8.1)       673     12991     15782       538       348\n",
       "[8.1, 9.1)         4      1233      1908         5        35\n",
       "[9.1, 10.1)        0         9        16         0         0"
      ]
     },
     "execution_count": 213,
     "metadata": {},
     "output_type": "execute_result"
    }
   ],
   "source": [
    "male_df"
   ]
  },
  {
   "cell_type": "code",
   "execution_count": 214,
   "id": "e5d13429",
   "metadata": {},
   "outputs": [],
   "source": [
    "#transpose the dataframe\n",
    "male_df_transposed=male_df.transpose()"
   ]
  },
  {
   "cell_type": "code",
   "execution_count": 215,
   "id": "63d702a3",
   "metadata": {},
   "outputs": [
    {
     "data": {
      "text/html": [
       "<div>\n",
       "<style scoped>\n",
       "    .dataframe tbody tr th:only-of-type {\n",
       "        vertical-align: middle;\n",
       "    }\n",
       "\n",
       "    .dataframe tbody tr th {\n",
       "        vertical-align: top;\n",
       "    }\n",
       "\n",
       "    .dataframe thead th {\n",
       "        text-align: right;\n",
       "    }\n",
       "</style>\n",
       "<table border=\"1\" class=\"dataframe\">\n",
       "  <thead>\n",
       "    <tr style=\"text-align: right;\">\n",
       "      <th></th>\n",
       "      <th>[-inf, 1.1)</th>\n",
       "      <th>[1.1, 2.1)</th>\n",
       "      <th>[2.1, 3.1)</th>\n",
       "      <th>[3.1, 4.1)</th>\n",
       "      <th>[4.1, 5.1)</th>\n",
       "      <th>[5.1, 6.1)</th>\n",
       "      <th>[6.1, 7.1)</th>\n",
       "      <th>[7.1, 8.1)</th>\n",
       "      <th>[8.1, 9.1)</th>\n",
       "      <th>[9.1, 10.1)</th>\n",
       "    </tr>\n",
       "  </thead>\n",
       "  <tbody>\n",
       "    <tr>\n",
       "      <th>[0, 15)</th>\n",
       "      <td>1113</td>\n",
       "      <td>7307</td>\n",
       "      <td>279</td>\n",
       "      <td>257</td>\n",
       "      <td>845</td>\n",
       "      <td>76</td>\n",
       "      <td>195</td>\n",
       "      <td>673</td>\n",
       "      <td>4</td>\n",
       "      <td>0</td>\n",
       "    </tr>\n",
       "    <tr>\n",
       "      <th>[15, 25)</th>\n",
       "      <td>5123</td>\n",
       "      <td>57257</td>\n",
       "      <td>4012</td>\n",
       "      <td>4201</td>\n",
       "      <td>2041</td>\n",
       "      <td>141</td>\n",
       "      <td>646</td>\n",
       "      <td>12991</td>\n",
       "      <td>1233</td>\n",
       "      <td>9</td>\n",
       "    </tr>\n",
       "    <tr>\n",
       "      <th>[25, 35)</th>\n",
       "      <td>12846</td>\n",
       "      <td>144218</td>\n",
       "      <td>6523</td>\n",
       "      <td>23682</td>\n",
       "      <td>4663</td>\n",
       "      <td>385</td>\n",
       "      <td>1771</td>\n",
       "      <td>15782</td>\n",
       "      <td>1908</td>\n",
       "      <td>16</td>\n",
       "    </tr>\n",
       "    <tr>\n",
       "      <th>[35, 45)</th>\n",
       "      <td>2165</td>\n",
       "      <td>30820</td>\n",
       "      <td>643</td>\n",
       "      <td>1125</td>\n",
       "      <td>77</td>\n",
       "      <td>0</td>\n",
       "      <td>5</td>\n",
       "      <td>538</td>\n",
       "      <td>5</td>\n",
       "      <td>0</td>\n",
       "    </tr>\n",
       "    <tr>\n",
       "      <th>[45, 75)</th>\n",
       "      <td>593</td>\n",
       "      <td>17326</td>\n",
       "      <td>256</td>\n",
       "      <td>235</td>\n",
       "      <td>21</td>\n",
       "      <td>0</td>\n",
       "      <td>1</td>\n",
       "      <td>348</td>\n",
       "      <td>35</td>\n",
       "      <td>0</td>\n",
       "    </tr>\n",
       "  </tbody>\n",
       "</table>\n",
       "</div>"
      ],
      "text/plain": [
       "          [-inf, 1.1)  [1.1, 2.1)  [2.1, 3.1)  [3.1, 4.1)  [4.1, 5.1)  \\\n",
       "[0, 15)          1113        7307         279         257         845   \n",
       "[15, 25)         5123       57257        4012        4201        2041   \n",
       "[25, 35)        12846      144218        6523       23682        4663   \n",
       "[35, 45)         2165       30820         643        1125          77   \n",
       "[45, 75)          593       17326         256         235          21   \n",
       "\n",
       "          [5.1, 6.1)  [6.1, 7.1)  [7.1, 8.1)  [8.1, 9.1)  [9.1, 10.1)  \n",
       "[0, 15)           76         195         673           4            0  \n",
       "[15, 25)         141         646       12991        1233            9  \n",
       "[25, 35)         385        1771       15782        1908           16  \n",
       "[35, 45)           0           5         538           5            0  \n",
       "[45, 75)           0           1         348          35            0  "
      ]
     },
     "execution_count": 215,
     "metadata": {},
     "output_type": "execute_result"
    }
   ],
   "source": [
    "columns_list=list(male_df_transposed.columns)\n",
    "male_df_transposed"
   ]
  },
  {
   "cell_type": "code",
   "execution_count": 216,
   "id": "9777afcf",
   "metadata": {},
   "outputs": [
    {
     "data": {
      "text/html": [
       "<div>\n",
       "<style scoped>\n",
       "    .dataframe tbody tr th:only-of-type {\n",
       "        vertical-align: middle;\n",
       "    }\n",
       "\n",
       "    .dataframe tbody tr th {\n",
       "        vertical-align: top;\n",
       "    }\n",
       "\n",
       "    .dataframe thead th {\n",
       "        text-align: right;\n",
       "    }\n",
       "</style>\n",
       "<table border=\"1\" class=\"dataframe\">\n",
       "  <thead>\n",
       "    <tr style=\"text-align: right;\">\n",
       "      <th></th>\n",
       "      <th>[0, 15)</th>\n",
       "      <th>[15, 25)</th>\n",
       "      <th>[25, 35)</th>\n",
       "      <th>[35, 45)</th>\n",
       "      <th>[45, 75)</th>\n",
       "    </tr>\n",
       "  </thead>\n",
       "  <tbody>\n",
       "    <tr>\n",
       "      <th>light</th>\n",
       "      <td>8699</td>\n",
       "      <td>66392</td>\n",
       "      <td>163587</td>\n",
       "      <td>33628</td>\n",
       "      <td>18175</td>\n",
       "    </tr>\n",
       "    <tr>\n",
       "      <th>medium</th>\n",
       "      <td>1373</td>\n",
       "      <td>7029</td>\n",
       "      <td>30501</td>\n",
       "      <td>1207</td>\n",
       "      <td>257</td>\n",
       "    </tr>\n",
       "    <tr>\n",
       "      <th>dark</th>\n",
       "      <td>677</td>\n",
       "      <td>14233</td>\n",
       "      <td>17706</td>\n",
       "      <td>543</td>\n",
       "      <td>383</td>\n",
       "    </tr>\n",
       "  </tbody>\n",
       "</table>\n",
       "</div>"
      ],
      "text/plain": [
       "        [0, 15)  [15, 25)  [25, 35)  [35, 45)  [45, 75)\n",
       "light      8699     66392    163587     33628     18175\n",
       "medium     1373      7029     30501      1207       257\n",
       "dark        677     14233     17706       543       383"
      ]
     },
     "execution_count": 216,
     "metadata": {},
     "output_type": "execute_result"
    }
   ],
   "source": [
    "male_df_transposed['light']=male_df_transposed['[-inf, 1.1)']+male_df_transposed['[1.1, 2.1)']+male_df_transposed['[2.1, 3.1)']\n",
    "male_df_transposed['medium']=male_df_transposed['[3.1, 4.1)']+male_df_transposed['[4.1, 5.1)']+male_df_transposed['[5.1, 6.1)']+male_df_transposed['[6.1, 7.1)']\n",
    "male_df_transposed['dark']=male_df_transposed['[7.1, 8.1)']+male_df_transposed['[8.1, 9.1)']+male_df_transposed['[9.1, 10.1)']\n",
    "\n",
    "#drop the intial list\n",
    "male_df_hm=male_df_transposed.drop(columns_list,axis=1)\n",
    "\n",
    "male_df_hm=male_df_hm.transpose()\n",
    "male_df_hm"
   ]
  },
  {
   "cell_type": "code",
   "execution_count": 217,
   "id": "e578c789",
   "metadata": {},
   "outputs": [],
   "source": [
    "total_male_faces=male_df_hm.sum().sum()\n",
    "male_df_hm=(male_df_hm/total_male_faces)"
   ]
  },
  {
   "cell_type": "code",
   "execution_count": 218,
   "id": "a350dc80",
   "metadata": {},
   "outputs": [
    {
     "data": {
      "image/png": "[encoded data removed]",
      "text/plain": [
       "<Figure size 640x480 with 2 Axes>"
      ]
     },
     "metadata": {},
     "output_type": "display_data"
    }
   ],
   "source": [
    "\n",
    "#heatmap plot \n",
    "import seaborn as sns\n",
    "import pandas as pd\n",
    "import matplotlib.pyplot as plt\n",
    "\n",
    "fig=sns.heatmap(male_df_hm, cmap='Blues',  fmt=\".2%\", annot=True, linewidths=2, linecolor='black', vmin=0, vmax=0.60)\n",
    "plt.xlabel('Age')\n",
    "plt.ylabel('Skintone')\n",
    "cbar = fig.collections[0].colorbar\n",
    "cbar.set_ticks([0, .2, .3, .4, .5, .6])\n",
    "cbar.set_ticklabels(['low', '20%', '30%', '40%', '50%', '60%'])\n",
    "fig.figure.savefig('plots/male_gender_distribution_heatmap.png',dpi=300)"
   ]
  },
  {
   "cell_type": "code",
   "execution_count": 219,
   "id": "96bef997",
   "metadata": {},
   "outputs": [
    {
     "data": {
      "text/plain": [
       "364390"
      ]
     },
     "execution_count": 219,
     "metadata": {},
     "output_type": "execute_result"
    }
   ],
   "source": [
    "rp_data['masculine_faces'].sum()"
   ]
  },
  {
   "cell_type": "code",
   "execution_count": 220,
   "id": "66701be1",
   "metadata": {},
   "outputs": [
    {
     "data": {
      "text/plain": [
       "79.72"
      ]
     },
     "execution_count": 220,
     "metadata": {},
     "output_type": "execute_result"
    }
   ],
   "source": [
    "2.39+18.22+44.89+9.23+4.99"
   ]
  },
  {
   "cell_type": "code",
   "execution_count": 221,
   "id": "3adf6223",
   "metadata": {},
   "outputs": [
    {
     "data": {
      "text/plain": [
       "11.08"
      ]
     },
     "execution_count": 221,
     "metadata": {},
     "output_type": "execute_result"
    }
   ],
   "source": [
    "1.93+8.37+0.33+0.07+0.38"
   ]
  },
  {
   "cell_type": "code",
   "execution_count": 222,
   "id": "7d0c5319",
   "metadata": {},
   "outputs": [
    {
     "data": {
      "text/plain": [
       "9.22"
      ]
     },
     "execution_count": 222,
     "metadata": {},
     "output_type": "execute_result"
    }
   ],
   "source": [
    "0.19+3.91+4.86+0.15+0.11"
   ]
  },
  {
   "cell_type": "code",
   "execution_count": 223,
   "id": "b3adb4f0",
   "metadata": {},
   "outputs": [
    {
     "data": {
      "text/plain": [
       "100.02"
      ]
     },
     "execution_count": 223,
     "metadata": {},
     "output_type": "execute_result"
    }
   ],
   "source": [
    "79.72+11.08+9.22"
   ]
  },
  {
   "cell_type": "code",
   "execution_count": 224,
   "id": "4a5d9fc2",
   "metadata": {},
   "outputs": [],
   "source": [
    "female_cols=[col for col in rp_data.columns if 'female' in col]\n",
    "female_data=rp_data[female_cols]"
   ]
  },
  {
   "cell_type": "code",
   "execution_count": null,
   "id": "0b2c5b43",
   "metadata": {},
   "outputs": [],
   "source": []
  },
  {
   "cell_type": "code",
   "execution_count": 225,
   "id": "b1c0c484",
   "metadata": {},
   "outputs": [],
   "source": [
    "female_df=df = pd.DataFrame(0, index=skintone_strings, columns=age_bins)\n",
    "\n",
    "\n",
    "for age_bin in age_bins:\n",
    "    \n",
    "    col_sample=[col for col in female_data.columns if age_bin in col]\n",
    "    age_subsample_data=female_data[col_sample]\n",
    "    \n",
    "    for col_select in col_sample:\n",
    "        \n",
    "        tuple_ = tuple(x.strip() for x in col_select.strip('()').split(','))\n",
    "        skintone_bin=tuple_[3]+\", \"+tuple_[4]+\")\"\n",
    "        sum_faces=female_data[col_select].sum()\n",
    "        \n",
    "        female_df.loc[skintone_bin,age_bin]=sum_faces"
   ]
  },
  {
   "cell_type": "code",
   "execution_count": 226,
   "id": "b7c38b22",
   "metadata": {},
   "outputs": [
    {
     "data": {
      "text/html": [
       "<div>\n",
       "<style scoped>\n",
       "    .dataframe tbody tr th:only-of-type {\n",
       "        vertical-align: middle;\n",
       "    }\n",
       "\n",
       "    .dataframe tbody tr th {\n",
       "        vertical-align: top;\n",
       "    }\n",
       "\n",
       "    .dataframe thead th {\n",
       "        text-align: right;\n",
       "    }\n",
       "</style>\n",
       "<table border=\"1\" class=\"dataframe\">\n",
       "  <thead>\n",
       "    <tr style=\"text-align: right;\">\n",
       "      <th></th>\n",
       "      <th>[0, 15)</th>\n",
       "      <th>[15, 25)</th>\n",
       "      <th>[25, 35)</th>\n",
       "      <th>[35, 45)</th>\n",
       "      <th>[45, 55)</th>\n",
       "      <th>[55, 65)</th>\n",
       "      <th>[65, 75)</th>\n",
       "    </tr>\n",
       "  </thead>\n",
       "  <tbody>\n",
       "    <tr>\n",
       "      <th>[-inf, 1.1)</th>\n",
       "      <td>4263</td>\n",
       "      <td>40503</td>\n",
       "      <td>53936</td>\n",
       "      <td>2387</td>\n",
       "      <td>686</td>\n",
       "      <td>136</td>\n",
       "      <td>0</td>\n",
       "    </tr>\n",
       "    <tr>\n",
       "      <th>[1.1, 2.1)</th>\n",
       "      <td>23636</td>\n",
       "      <td>305761</td>\n",
       "      <td>455215</td>\n",
       "      <td>41539</td>\n",
       "      <td>40260</td>\n",
       "      <td>7957</td>\n",
       "      <td>57</td>\n",
       "    </tr>\n",
       "    <tr>\n",
       "      <th>[2.1, 3.1)</th>\n",
       "      <td>766</td>\n",
       "      <td>20670</td>\n",
       "      <td>30283</td>\n",
       "      <td>1216</td>\n",
       "      <td>467</td>\n",
       "      <td>123</td>\n",
       "      <td>0</td>\n",
       "    </tr>\n",
       "    <tr>\n",
       "      <th>[3.1, 4.1)</th>\n",
       "      <td>1004</td>\n",
       "      <td>34154</td>\n",
       "      <td>36252</td>\n",
       "      <td>6050</td>\n",
       "      <td>3640</td>\n",
       "      <td>227</td>\n",
       "      <td>0</td>\n",
       "    </tr>\n",
       "    <tr>\n",
       "      <th>[4.1, 5.1)</th>\n",
       "      <td>1154</td>\n",
       "      <td>20683</td>\n",
       "      <td>19528</td>\n",
       "      <td>2771</td>\n",
       "      <td>1721</td>\n",
       "      <td>36</td>\n",
       "      <td>0</td>\n",
       "    </tr>\n",
       "    <tr>\n",
       "      <th>[5.1, 6.1)</th>\n",
       "      <td>213</td>\n",
       "      <td>4164</td>\n",
       "      <td>3422</td>\n",
       "      <td>50</td>\n",
       "      <td>14</td>\n",
       "      <td>0</td>\n",
       "      <td>0</td>\n",
       "    </tr>\n",
       "    <tr>\n",
       "      <th>[6.1, 7.1)</th>\n",
       "      <td>647</td>\n",
       "      <td>13454</td>\n",
       "      <td>7772</td>\n",
       "      <td>243</td>\n",
       "      <td>135</td>\n",
       "      <td>1</td>\n",
       "      <td>0</td>\n",
       "    </tr>\n",
       "    <tr>\n",
       "      <th>[7.1, 8.1)</th>\n",
       "      <td>1322</td>\n",
       "      <td>32160</td>\n",
       "      <td>14394</td>\n",
       "      <td>245</td>\n",
       "      <td>107</td>\n",
       "      <td>22</td>\n",
       "      <td>0</td>\n",
       "    </tr>\n",
       "    <tr>\n",
       "      <th>[8.1, 9.1)</th>\n",
       "      <td>53</td>\n",
       "      <td>618</td>\n",
       "      <td>412</td>\n",
       "      <td>1</td>\n",
       "      <td>0</td>\n",
       "      <td>0</td>\n",
       "      <td>0</td>\n",
       "    </tr>\n",
       "    <tr>\n",
       "      <th>[9.1, 10.1)</th>\n",
       "      <td>0</td>\n",
       "      <td>10</td>\n",
       "      <td>4</td>\n",
       "      <td>0</td>\n",
       "      <td>0</td>\n",
       "      <td>0</td>\n",
       "      <td>0</td>\n",
       "    </tr>\n",
       "  </tbody>\n",
       "</table>\n",
       "</div>"
      ],
      "text/plain": [
       "             [0, 15)  [15, 25)  [25, 35)  [35, 45)  [45, 55)  [55, 65)  \\\n",
       "[-inf, 1.1)     4263     40503     53936      2387       686       136   \n",
       "[1.1, 2.1)     23636    305761    455215     41539     40260      7957   \n",
       "[2.1, 3.1)       766     20670     30283      1216       467       123   \n",
       "[3.1, 4.1)      1004     34154     36252      6050      3640       227   \n",
       "[4.1, 5.1)      1154     20683     19528      2771      1721        36   \n",
       "[5.1, 6.1)       213      4164      3422        50        14         0   \n",
       "[6.1, 7.1)       647     13454      7772       243       135         1   \n",
       "[7.1, 8.1)      1322     32160     14394       245       107        22   \n",
       "[8.1, 9.1)        53       618       412         1         0         0   \n",
       "[9.1, 10.1)        0        10         4         0         0         0   \n",
       "\n",
       "             [65, 75)  \n",
       "[-inf, 1.1)         0  \n",
       "[1.1, 2.1)         57  \n",
       "[2.1, 3.1)          0  \n",
       "[3.1, 4.1)          0  \n",
       "[4.1, 5.1)          0  \n",
       "[5.1, 6.1)          0  \n",
       "[6.1, 7.1)          0  \n",
       "[7.1, 8.1)          0  \n",
       "[8.1, 9.1)          0  \n",
       "[9.1, 10.1)         0  "
      ]
     },
     "execution_count": 226,
     "metadata": {},
     "output_type": "execute_result"
    }
   ],
   "source": [
    "female_df"
   ]
  },
  {
   "cell_type": "code",
   "execution_count": 227,
   "id": "bea041a2",
   "metadata": {},
   "outputs": [],
   "source": [
    "female_df['[45, 75)']=female_df['[45, 55)']+female_df['[55, 65)']+female_df['[65, 75)']\n",
    "\n",
    "#drop columns from male_df \n",
    "female_df=female_df.drop(['[45, 55)', '[55, 65)', '[65, 75)'], axis=1)"
   ]
  },
  {
   "cell_type": "code",
   "execution_count": 228,
   "id": "c9498572",
   "metadata": {},
   "outputs": [
    {
     "data": {
      "text/html": [
       "<div>\n",
       "<style scoped>\n",
       "    .dataframe tbody tr th:only-of-type {\n",
       "        vertical-align: middle;\n",
       "    }\n",
       "\n",
       "    .dataframe tbody tr th {\n",
       "        vertical-align: top;\n",
       "    }\n",
       "\n",
       "    .dataframe thead th {\n",
       "        text-align: right;\n",
       "    }\n",
       "</style>\n",
       "<table border=\"1\" class=\"dataframe\">\n",
       "  <thead>\n",
       "    <tr style=\"text-align: right;\">\n",
       "      <th></th>\n",
       "      <th>[0, 15)</th>\n",
       "      <th>[15, 25)</th>\n",
       "      <th>[25, 35)</th>\n",
       "      <th>[35, 45)</th>\n",
       "      <th>[45, 75)</th>\n",
       "    </tr>\n",
       "  </thead>\n",
       "  <tbody>\n",
       "    <tr>\n",
       "      <th>[-inf, 1.1)</th>\n",
       "      <td>4263</td>\n",
       "      <td>40503</td>\n",
       "      <td>53936</td>\n",
       "      <td>2387</td>\n",
       "      <td>822</td>\n",
       "    </tr>\n",
       "    <tr>\n",
       "      <th>[1.1, 2.1)</th>\n",
       "      <td>23636</td>\n",
       "      <td>305761</td>\n",
       "      <td>455215</td>\n",
       "      <td>41539</td>\n",
       "      <td>48274</td>\n",
       "    </tr>\n",
       "    <tr>\n",
       "      <th>[2.1, 3.1)</th>\n",
       "      <td>766</td>\n",
       "      <td>20670</td>\n",
       "      <td>30283</td>\n",
       "      <td>1216</td>\n",
       "      <td>590</td>\n",
       "    </tr>\n",
       "    <tr>\n",
       "      <th>[3.1, 4.1)</th>\n",
       "      <td>1004</td>\n",
       "      <td>34154</td>\n",
       "      <td>36252</td>\n",
       "      <td>6050</td>\n",
       "      <td>3867</td>\n",
       "    </tr>\n",
       "    <tr>\n",
       "      <th>[4.1, 5.1)</th>\n",
       "      <td>1154</td>\n",
       "      <td>20683</td>\n",
       "      <td>19528</td>\n",
       "      <td>2771</td>\n",
       "      <td>1757</td>\n",
       "    </tr>\n",
       "    <tr>\n",
       "      <th>[5.1, 6.1)</th>\n",
       "      <td>213</td>\n",
       "      <td>4164</td>\n",
       "      <td>3422</td>\n",
       "      <td>50</td>\n",
       "      <td>14</td>\n",
       "    </tr>\n",
       "    <tr>\n",
       "      <th>[6.1, 7.1)</th>\n",
       "      <td>647</td>\n",
       "      <td>13454</td>\n",
       "      <td>7772</td>\n",
       "      <td>243</td>\n",
       "      <td>136</td>\n",
       "    </tr>\n",
       "    <tr>\n",
       "      <th>[7.1, 8.1)</th>\n",
       "      <td>1322</td>\n",
       "      <td>32160</td>\n",
       "      <td>14394</td>\n",
       "      <td>245</td>\n",
       "      <td>129</td>\n",
       "    </tr>\n",
       "    <tr>\n",
       "      <th>[8.1, 9.1)</th>\n",
       "      <td>53</td>\n",
       "      <td>618</td>\n",
       "      <td>412</td>\n",
       "      <td>1</td>\n",
       "      <td>0</td>\n",
       "    </tr>\n",
       "    <tr>\n",
       "      <th>[9.1, 10.1)</th>\n",
       "      <td>0</td>\n",
       "      <td>10</td>\n",
       "      <td>4</td>\n",
       "      <td>0</td>\n",
       "      <td>0</td>\n",
       "    </tr>\n",
       "  </tbody>\n",
       "</table>\n",
       "</div>"
      ],
      "text/plain": [
       "             [0, 15)  [15, 25)  [25, 35)  [35, 45)  [45, 75)\n",
       "[-inf, 1.1)     4263     40503     53936      2387       822\n",
       "[1.1, 2.1)     23636    305761    455215     41539     48274\n",
       "[2.1, 3.1)       766     20670     30283      1216       590\n",
       "[3.1, 4.1)      1004     34154     36252      6050      3867\n",
       "[4.1, 5.1)      1154     20683     19528      2771      1757\n",
       "[5.1, 6.1)       213      4164      3422        50        14\n",
       "[6.1, 7.1)       647     13454      7772       243       136\n",
       "[7.1, 8.1)      1322     32160     14394       245       129\n",
       "[8.1, 9.1)        53       618       412         1         0\n",
       "[9.1, 10.1)        0        10         4         0         0"
      ]
     },
     "execution_count": 228,
     "metadata": {},
     "output_type": "execute_result"
    }
   ],
   "source": [
    "female_df"
   ]
  },
  {
   "cell_type": "code",
   "execution_count": 229,
   "id": "74bda9e8",
   "metadata": {},
   "outputs": [
    {
     "data": {
      "text/html": [
       "<div>\n",
       "<style scoped>\n",
       "    .dataframe tbody tr th:only-of-type {\n",
       "        vertical-align: middle;\n",
       "    }\n",
       "\n",
       "    .dataframe tbody tr th {\n",
       "        vertical-align: top;\n",
       "    }\n",
       "\n",
       "    .dataframe thead th {\n",
       "        text-align: right;\n",
       "    }\n",
       "</style>\n",
       "<table border=\"1\" class=\"dataframe\">\n",
       "  <thead>\n",
       "    <tr style=\"text-align: right;\">\n",
       "      <th></th>\n",
       "      <th>[0, 15)</th>\n",
       "      <th>[15, 25)</th>\n",
       "      <th>[25, 35)</th>\n",
       "      <th>[35, 45)</th>\n",
       "      <th>[45, 75)</th>\n",
       "    </tr>\n",
       "  </thead>\n",
       "  <tbody>\n",
       "    <tr>\n",
       "      <th>light</th>\n",
       "      <td>28665</td>\n",
       "      <td>366934</td>\n",
       "      <td>539434</td>\n",
       "      <td>45142</td>\n",
       "      <td>49686</td>\n",
       "    </tr>\n",
       "    <tr>\n",
       "      <th>medium</th>\n",
       "      <td>2566</td>\n",
       "      <td>59647</td>\n",
       "      <td>60973</td>\n",
       "      <td>8876</td>\n",
       "      <td>5639</td>\n",
       "    </tr>\n",
       "    <tr>\n",
       "      <th>dark</th>\n",
       "      <td>1375</td>\n",
       "      <td>32788</td>\n",
       "      <td>14810</td>\n",
       "      <td>246</td>\n",
       "      <td>129</td>\n",
       "    </tr>\n",
       "  </tbody>\n",
       "</table>\n",
       "</div>"
      ],
      "text/plain": [
       "        [0, 15)  [15, 25)  [25, 35)  [35, 45)  [45, 75)\n",
       "light     28665    366934    539434     45142     49686\n",
       "medium     2566     59647     60973      8876      5639\n",
       "dark       1375     32788     14810       246       129"
      ]
     },
     "execution_count": 229,
     "metadata": {},
     "output_type": "execute_result"
    }
   ],
   "source": [
    "female_df_transposed=female_df.transpose()\n",
    "female_df_transposed['light']=female_df_transposed['[-inf, 1.1)']+female_df_transposed['[1.1, 2.1)']+female_df_transposed['[2.1, 3.1)']\n",
    "female_df_transposed['medium']=female_df_transposed['[3.1, 4.1)']+female_df_transposed['[4.1, 5.1)']+female_df_transposed['[5.1, 6.1)']+male_df_transposed['[6.1, 7.1)']\n",
    "female_df_transposed['dark']=female_df_transposed['[7.1, 8.1)']+female_df_transposed['[8.1, 9.1)']+female_df_transposed['[9.1, 10.1)']\n",
    "\n",
    "#drop the intial list\n",
    "female_df_hm=female_df_transposed.drop(columns_list,axis=1)\n",
    "\n",
    "female_df_hm=female_df_hm.transpose()\n",
    "female_df_hm"
   ]
  },
  {
   "cell_type": "code",
   "execution_count": 230,
   "id": "25d1980d",
   "metadata": {},
   "outputs": [
    {
     "data": {
      "text/plain": [
       "1236544"
      ]
     },
     "execution_count": 230,
     "metadata": {},
     "output_type": "execute_result"
    }
   ],
   "source": [
    "female_df.sum().sum()"
   ]
  },
  {
   "cell_type": "code",
   "execution_count": 231,
   "id": "e753b7db",
   "metadata": {},
   "outputs": [],
   "source": [
    "total_female_faces=rp_data['feminine_faces'].sum()"
   ]
  },
  {
   "cell_type": "code",
   "execution_count": 232,
   "id": "a190069a",
   "metadata": {},
   "outputs": [
    {
     "data": {
      "image/png": "[encoded data removed]",
      "text/plain": [
       "<Figure size 640x480 with 2 Axes>"
      ]
     },
     "metadata": {},
     "output_type": "display_data"
    }
   ],
   "source": [
    "female_df_hm=(female_df_hm/total_female_faces)\n",
    "fig=sns.heatmap(female_df_hm, cmap='Blues',  fmt=\".2%\", annot=True, linewidths=2, linecolor='black', vmin=0, vmax=0.70)\n",
    "plt.xlabel('Age')\n",
    "plt.ylabel('Skintone')\n",
    "cbar = fig.collections[0].colorbar\n",
    "cbar.set_ticks([0, .2, .3, .4, .5, .6, .7])\n",
    "cbar.set_ticklabels(['low', '20%', '30%', '40%', '50%', '60%', '70%'])\n",
    "fig.figure.savefig('plots/female_gender_distribution_heatmap.png',dpi=300)"
   ]
  },
  {
   "cell_type": "code",
   "execution_count": null,
   "id": "bb646cfd",
   "metadata": {},
   "outputs": [],
   "source": []
  }
 ],
 "metadata": {
  "kernelspec": {
   "display_name": "Python 3 (ipykernel)",
   "language": "python",
   "name": "python3"
  },
  "language_info": {
   "codemirror_mode": {
    "name": "ipython",
    "version": 3
   },
   "file_extension": ".py",
   "mimetype": "text/x-python",
   "name": "python",
   "nbconvert_exporter": "python",
   "pygments_lexer": "ipython3",
   "version": "3.8.16"
  }
 },
 "nbformat": 4,
 "nbformat_minor": 5
}
